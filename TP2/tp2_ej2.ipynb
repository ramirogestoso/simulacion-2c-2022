{
 "cells": [
  {
   "cell_type": "markdown",
   "metadata": {},
   "source": [
    "Podemos obtener las probabilidades de estado estacionario del sistema para n solicitudes asi: z=p<sub>n</sub>= [(λ/μ)^n * e^-(λ/μ)] / n!"
   ]
  },
  {
   "cell_type": "markdown",
   "metadata": {},
   "source": [
    "Podemos obtener la longitud promedio de imagenes en cola esperando ser procesadas de la siguiente forma:\n",
    "L=Σ (n * p<sub>n</sub>)=Σ (n * z)"
   ]
  },
  {
   "cell_type": "code",
   "execution_count": 2,
   "metadata": {},
   "outputs": [],
   "source": [
    "import numpy as np\n",
    "import matplotlib.pyplot as plt"
   ]
  },
  {
   "cell_type": "code",
   "execution_count": 16,
   "metadata": {},
   "outputs": [
    {
     "data": {
      "image/png": "[encoded data removed]",
      "text/plain": [
       "<Figure size 432x288 with 1 Axes>"
      ]
     },
     "metadata": {
      "needs_background": "light"
     },
     "output_type": "display_data"
    }
   ],
   "source": [
    "CANT_MAX_SOLICITUDES=10\n",
    "l=[]\n",
    "arribo=0\n",
    "lamb=0.5\n",
    "mu=1\n",
    "ro=lamb/mu\n",
    "\n",
    "for n in range (CANT_MAX_SOLICITUDES):\n",
    "    z= np.random.poisson(ro)\n",
    "    arribo=arribo+n*z\n",
    "    l.append(arribo)\n",
    "\n",
    "plt.step(l,range(len(l)),where= 'post' ,label='λ/μ=0.5')\n",
    "plt.legend()\n",
    "plt.show()"
   ]
  },
  {
   "cell_type": "code",
   "execution_count": null,
   "metadata": {},
   "outputs": [],
   "source": []
  }
 ],
 "metadata": {
  "kernelspec": {
   "display_name": "Python 3",
   "language": "python",
   "name": "python3"
  },
  "language_info": {
   "codemirror_mode": {
    "name": "ipython",
    "version": 3
   },
   "file_extension": ".py",
   "mimetype": "text/x-python",
   "name": "python",
   "nbconvert_exporter": "python",
   "pygments_lexer": "ipython3",
   "version": "3.7.9"
  }
 },
 "nbformat": 4,
 "nbformat_minor": 4
}
