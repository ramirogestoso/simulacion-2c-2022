{
 "cells": [
  {
   "cell_type": "markdown",
   "id": "7c7c48fa",
   "metadata": {},
   "source": [
    "## Importamos bibliotecas"
   ]
  },
  {
   "cell_type": "code",
   "execution_count": 338,
   "id": "2b4154d5",
   "metadata": {},
   "outputs": [],
   "source": [
    "import numpy as np\n",
    "import random\n",
    "import matplotlib.pyplot as plt"
   ]
  },
  {
   "cell_type": "markdown",
   "id": "8639bd5a",
   "metadata": {},
   "source": [
    "## Cajeros"
   ]
  },
  {
   "cell_type": "markdown",
   "id": "b87566ed",
   "metadata": {},
   "source": [
    "### Cajero Estandar"
   ]
  },
  {
   "cell_type": "code",
   "execution_count": 339,
   "id": "5f694a3a",
   "metadata": {},
   "outputs": [],
   "source": [
    "CAPACIDAD_BILLETES_DEPOSITOS= 2000\n",
    "CAPACIDAD_BILLETES_EXTRACCIONES = 2000\n",
    "VALOR_BILLETES = 100"
   ]
  },
  {
   "cell_type": "code",
   "execution_count": 340,
   "id": "7470e267",
   "metadata": {},
   "outputs": [],
   "source": [
    "class CajeroEstandar:\n",
    "    def __init__(self, capacidad_billetes_depositos, capacidad_billetes_extracciones):\n",
    "        self.capacidad_billetes_depositos = capacidad_billetes_depositos\n",
    "        self.capacidad_billetes_extracciones = capacidad_billetes_extracciones\n",
    "        \n",
    "        self.iniciar_nuevo_dia()\n",
    "        \n",
    "    \n",
    "    def depositar(self, billetes):    \n",
    "        futuros_billetes_depositados  = self.billetes_depositados + billetes\n",
    "        if futuros_billetes_depositados > self.capacidad_billetes_depositos:\n",
    "            return False          \n",
    "        self.billetes_depositados = futuros_billetes_depositados\n",
    "        return True\n",
    "    \n",
    "    def extraer(self, billetes):\n",
    "        futuros_billetes_extracciones = self.billetes_extracciones_disponibles - billetes\n",
    "        if futuros_billetes_extracciones < 0:\n",
    "            return False\n",
    "        self.billetes_extracciones_disponibles = futuros_billetes_extracciones\n",
    "        return True\n",
    "    \n",
    "    def iniciar_nuevo_dia (self):\n",
    "        # Comienza el día con la carga completa para extracciones\n",
    "        self.billetes_extracciones_disponibles = self.capacidad_billetes_extracciones\n",
    "        \n",
    "        # Comienza el día sin ningún depósito\n",
    "        self.billetes_depositados = 0\n",
    "    \n",
    "    def obtener_cantidad_billetes(self):\n",
    "        return self.billetes_extracciones_disponibles\n",
    "       "
   ]
  },
  {
   "cell_type": "code",
   "execution_count": 341,
   "id": "ea828eb1",
   "metadata": {},
   "outputs": [],
   "source": [
    "cajero_estandar = CajeroEstandar(CAPACIDAD_BILLETES_DEPOSITOS, CAPACIDAD_BILLETES_EXTRACCIONES)"
   ]
  },
  {
   "cell_type": "markdown",
   "id": "dc74c62a",
   "metadata": {},
   "source": [
    "### Cajero Reciclador"
   ]
  },
  {
   "cell_type": "code",
   "execution_count": 342,
   "id": "c70637ad",
   "metadata": {},
   "outputs": [],
   "source": [
    "CAPACIDAD = 2000\n",
    "CANTIDAD_BILLETES_INCIAL = 2000"
   ]
  },
  {
   "cell_type": "code",
   "execution_count": 343,
   "id": "d9f8e14d",
   "metadata": {},
   "outputs": [],
   "source": [
    "class CajeroReciclador:\n",
    "    def __init__(self, capacidad, cantidad_billetes_inicial):\n",
    "        self.capacidad = capacidad\n",
    "        self.cantidad_billetes_inicial = cantidad_billetes_inicial\n",
    "        self.iniciar_nuevo_dia()\n",
    "        \n",
    "    def depositar(self, billetes):\n",
    "        futuros_billetes  = self.billetes + billetes\n",
    "        if futuros_billetes > self.capacidad:\n",
    "            return False\n",
    "        self.billetes = futuros_billetes\n",
    "        return True\n",
    "    \n",
    "    def extraer (self, billetes):\n",
    "        futuros_billetes = self.billetes - billetes\n",
    "        if futuros_billetes < 0:\n",
    "            return False\n",
    "        self.billetes = futuros_billetes\n",
    "        return True\n",
    "    \n",
    "    def iniciar_nuevo_dia(self):\n",
    "        self.billetes = self.cantidad_billetes_inicial\n",
    "        \n",
    "    def obtener_cantidad_billetes(self):\n",
    "        return self.billetes\n",
    "        "
   ]
  },
  {
   "cell_type": "markdown",
   "id": "55ffd759",
   "metadata": {},
   "source": [
    "## Persona"
   ]
  },
  {
   "cell_type": "code",
   "execution_count": 344,
   "id": "dfadeb6f",
   "metadata": {},
   "outputs": [],
   "source": [
    "# Personas\n",
    "LIMITE_INFERIOR_DEPOSITOS = 10\n",
    "LIMITE_SUPERIOR_DEPOSITOS = 110\n",
    "LIMITE_INFERIOR_EXTRACCIONES = 3\n",
    "LIMITE_SUPERIOR_EXTRACCIONES = 50\n",
    "MEDIA_TIEMPO_DEPOSITOS = 5/60 # 5 minutos\n",
    "MEDIA_TIEMPO_EXTRACCIONES = 90/3600 # 90 segundos = 0.025 horas"
   ]
  },
  {
   "cell_type": "code",
   "execution_count": 345,
   "id": "994ed1f7",
   "metadata": {},
   "outputs": [],
   "source": [
    "class Operacion:\n",
    "    def __init__(self, tipo, tiempo, resultado):\n",
    "        self.tipo = tipo\n",
    "        self.tiempo = tiempo\n",
    "        self.resultado = resultado"
   ]
  },
  {
   "cell_type": "code",
   "execution_count": 346,
   "id": "354d6415",
   "metadata": {},
   "outputs": [],
   "source": [
    "class Persona:\n",
    "    def __init__(self,\n",
    "                 limite_inferior_depositos, \n",
    "                 limite_superior_depositos, \n",
    "                 limite_inferior_extracciones,\n",
    "                 limite_superior_extracciones,\n",
    "                 media_tiempo_depositos,\n",
    "                 media_tiempo_extracciones):\n",
    "    \n",
    "        self.limite_inferior_depositos = limite_inferior_depositos \n",
    "        self.limite_superior_depositos = limite_superior_depositos \n",
    "        self.limite_inferior_extracciones = limite_inferior_extracciones\n",
    "        self.limite_superior_extracciones = limite_superior_extracciones\n",
    "        self.media_tiempo_depositos = media_tiempo_depositos\n",
    "        self.media_tiempo_extracciones = media_tiempo_extracciones\n",
    "        \n",
    "    def realizar_transaccion(self, cajero):\n",
    "        random = np.random.uniform(0, 1, 1)[0]\n",
    "        if random > 0.75:\n",
    "            return self.realizar_deposito(cajero)\n",
    "        return self.realizar_extraccion (cajero)\n",
    "    \n",
    "    def realizar_deposito (self, cajero):\n",
    "        billetes = random.randint(self.limite_inferior_depositos, self.limite_superior_depositos)\n",
    "        tiempo = np.random.exponential(self.media_tiempo_depositos)\n",
    "        resultado = cajero.depositar(billetes)\n",
    "        return Operacion('DEPOSITO', tiempo, resultado)\n",
    "        \n",
    "    def realizar_extraccion (self, cajero):\n",
    "        billetes = random.randint(self.limite_inferior_extracciones, self.limite_superior_extracciones)\n",
    "        tiempo = np.random.exponential(self.media_tiempo_extracciones)\n",
    "        resultado =  cajero.extraer(billetes)\n",
    "        return Operacion('EXTRACCION', tiempo, resultado) "
   ]
  },
  {
   "cell_type": "markdown",
   "id": "c42829e4",
   "metadata": {},
   "source": [
    "## Simulaciones"
   ]
  },
  {
   "cell_type": "code",
   "execution_count": 347,
   "id": "8ab8a79e",
   "metadata": {},
   "outputs": [],
   "source": [
    "TIEMPO_MEDIO_ARRIBOS = 10/60 # horas"
   ]
  },
  {
   "cell_type": "markdown",
   "id": "76cf4c57",
   "metadata": {},
   "source": [
    "### Modelo la simulación"
   ]
  },
  {
   "cell_type": "code",
   "execution_count": 348,
   "id": "ada89ff1",
   "metadata": {},
   "outputs": [],
   "source": [
    "def obtener_arribos (tiempo_medio_arribos):\n",
    "    t = 0\n",
    "    arribos = [] \n",
    "    while True:\n",
    "        t += np.random.exponential(tiempo_medio_arribos)    \n",
    "        if t > 24:\n",
    "            return arribos\n",
    "        arribos.append(t)"
   ]
  },
  {
   "cell_type": "code",
   "execution_count": 349,
   "id": "1173a1a6",
   "metadata": {},
   "outputs": [],
   "source": [
    "def simular_dia(cajero, tiempo_medio_arribos):\n",
    "    # Inicio un nuevo día en el cajero\n",
    "    cajero.iniciar_nuevo_dia()\n",
    "    t_libera_cajero = 0\n",
    "    \n",
    "    # Estadisticas del días\n",
    "    estadisticas = {\n",
    "        \"cantidad_depositos\":0,\n",
    "        \"cantidad_depositos_exitosos\":0,\n",
    "        \"cantidad_depositos_fallidos\":0,\n",
    "        \"cantidad_extracciones\":0,\n",
    "        \"cantidad_extracciones_exitosas\":0,\n",
    "        \"cantidad_extracciones_fallidas\":0,\n",
    "        \"billetes_tras_transaccion\" : [cajero.obtener_cantidad_billetes()],\n",
    "        \"tiempos_de_demora\": [],\n",
    "        \"tiempo_medio_demoras\" : 0\n",
    "    }\n",
    "    \n",
    "    # obtengo los tiempo en que van a llegar las personas\n",
    "    arribos = obtener_arribos(tiempo_medio_arribos)\n",
    "               \n",
    "    # Para cada uno de los tiempos de arribo\n",
    "    \n",
    "    # ti: tiempo i-esimo arribo\n",
    "    # espera de la persona i\n",
    "    \n",
    "    for ti in arribos:\n",
    "        ei = t_libera_cajero - ti\n",
    "        \n",
    "        # realiza una transaccion en el cajero\n",
    "        operacion = Persona(LIMITE_INFERIOR_DEPOSITOS,\n",
    "                            LIMITE_SUPERIOR_DEPOSITOS,\n",
    "                            LIMITE_INFERIOR_EXTRACCIONES,\n",
    "                            LIMITE_SUPERIOR_EXTRACCIONES,\n",
    "                            MEDIA_TIEMPO_DEPOSITOS,\n",
    "                            MEDIA_TIEMPO_EXTRACCIONES\n",
    "                            ).realizar_transaccion(cajero)\n",
    "            \n",
    "        \n",
    "        # Sino no esperé, porque el cajero estaba libre\n",
    "        if ei <= 0:\n",
    "            # el tiempo de espera de esa persona es 0\n",
    "            ei = 0\n",
    "            \n",
    "            # el siguiente tiempo en el que se libera el cajero es el tiempo de llegada de la persona + lo que tarda en usarlo\n",
    "            t_libera_cajero = ti + operacion.tiempo\n",
    "        \n",
    "        # Si si tengo que esperar    \n",
    "        else:\n",
    "            # El tiempo en que se libera, es el tiempo en que lo libero la persona anterior + el tiempo que esta persona tarde\n",
    "            t_libera_cajero += operacion.tiempo \n",
    "            \n",
    "        # Calculo tiempo de demora de la persona\n",
    "        demora = ei + operacion.tiempo\n",
    "        estadisticas[\"tiempos_de_demora\"].append(demora)\n",
    "        \n",
    "        # calculo cantidad billetes en cajero\n",
    "        estadisticas[\"billetes_tras_transaccion\"].append(cajero.obtener_cantidad_billetes())\n",
    "        \n",
    "        # Actualizo estadisticas con rlosd datos de la operacion\n",
    "        if operacion.tipo == 'DEPOSITO':\n",
    "            estadisticas[\"cantidad_depositos\"] += 1\n",
    "            if operacion.resultado == True:\n",
    "                estadisticas[\"cantidad_depositos_exitosos\"] +=1\n",
    "            else:\n",
    "                estadisticas[\"cantidad_depositos_fallidos\"] += 1\n",
    "        \n",
    "        else:\n",
    "            estadisticas[\"cantidad_extracciones\"] += 1\n",
    "            if operacion.resultado == True:\n",
    "                estadisticas[\"cantidad_extracciones_exitosas\"] +=1\n",
    "            else:\n",
    "                estadisticas[\"cantidad_extracciones_fallidas\"] += 1\n",
    "    \n",
    "        # Si el tiempo en que se libera es mayor a 24 corto\n",
    "        if t_libera_cajero >= 24:\n",
    "            break\n",
    "        \n",
    "    # Concluido el dia calculo el tiempo medio de demoras\n",
    "    estadisticas[\"tiempo_medio_demoras\"] = sum(estadisticas[\"tiempos_de_demora\"])/len(estadisticas[\"tiempos_de_demora\"])\n",
    "    \n",
    "    return estadisticas"
   ]
  },
  {
   "cell_type": "code",
   "execution_count": 350,
   "id": "55673b35",
   "metadata": {},
   "outputs": [],
   "source": [
    "def realizar_simulacion (cajero, tiempo_medio_arribos, cantidad_de_dias):\n",
    "    estadisticas_por_dia = []\n",
    "    \n",
    "    estadisticas = {\n",
    "        \"cantidad_depositos\":0,\n",
    "        \"cantidad_depositos_exitosos\":0,\n",
    "        \"cantidad_depositos_fallidos\":0,\n",
    "        \"cantidad_extracciones\":0,\n",
    "        \"cantidad_extracciones_exitosas\":0,\n",
    "        \"cantidad_extracciones_fallidas\":0,\n",
    "        \"billetes_tras_transaccion\" : [cajero.obtener_cantidad_billetes()],\n",
    "        \"tiempos_de_demora\": [],\n",
    "        \"tiempo_medio_demoras\" : 0\n",
    "    }\n",
    "    \n",
    "    for x in range (0, cantidad_de_dias):\n",
    "        estadisticas_por_dia.append(simular_dia(cajero, tiempo_medio_arribos))\n",
    "        \n",
    "    for estadistica in estadisticas_por_dia:\n",
    "        estadisticas[\"cantidad_depositos\"] += estadistica[\"cantidad_depositos\"]\n",
    "        estadisticas[\"cantidad_depositos_exitosos\"] += estadistica[\"cantidad_depositos_exitosos\"]\n",
    "        estadisticas[\"cantidad_depositos_fallidos\"] += estadistica[\"cantidad_depositos_fallidos\"]\n",
    "        estadisticas[\"cantidad_extracciones\"] += estadistica[\"cantidad_extracciones\"]\n",
    "        estadisticas[\"cantidad_extracciones_exitosas\"] += estadistica[\"cantidad_extracciones_exitosas\"]\n",
    "        estadisticas[\"cantidad_extracciones_fallidas\"] += estadistica[\"cantidad_extracciones_fallidas\"]\n",
    "        estadisticas[\"billetes_tras_transaccion\"] += estadistica[\"billetes_tras_transaccion\"]\n",
    "        estadisticas[\"tiempos_de_demora\"] += estadistica[\"tiempos_de_demora\"]\n",
    "        estadisticas[\"tiempo_medio_demoras\"] = sum(estadisticas[\"tiempos_de_demora\"])/len(estadisticas[\"tiempos_de_demora\"])\n",
    "        \n",
    "    return estadisticas      "
   ]
  },
  {
   "cell_type": "markdown",
   "id": "b644b34e",
   "metadata": {},
   "source": [
    "### Consignas\n"
   ]
  },
  {
   "cell_type": "markdown",
   "id": "1ed68ffb",
   "metadata": {},
   "source": [
    "####  a) Simular 1000 días completos de 24 hrs."
   ]
  },
  {
   "cell_type": "code",
   "execution_count": 351,
   "id": "ea20bc02",
   "metadata": {},
   "outputs": [],
   "source": [
    "cajero_reciclador_1000 = CajeroReciclador(CAPACIDAD,CANTIDAD_BILLETES_INCIAL)\n",
    "estadisticas_1000 = realizar_simulacion(cajero_reciclador_1000, TIEMPO_MEDIO_ARRIBOS, 1000)"
   ]
  },
  {
   "cell_type": "markdown",
   "id": "05b62fa1",
   "metadata": {},
   "source": [
    "##### Despositos"
   ]
  },
  {
   "cell_type": "code",
   "execution_count": 352,
   "id": "8a3678d8",
   "metadata": {},
   "outputs": [
    {
     "name": "stdout",
     "output_type": "stream",
     "text": [
      "Cantidad de depositos: 35855\n",
      "exitosos: 33471\n",
      "fallidos: 2384\n",
      "% fallidos: 6.64900292846186\n"
     ]
    }
   ],
   "source": [
    "print (\"Cantidad de depositos: \" + str(estadisticas_1000[\"cantidad_depositos\"]))\n",
    "print (\"exitosos: \" + str(estadisticas_1000[\"cantidad_depositos_exitosos\"]))\n",
    "print (\"fallidos: \" + str(estadisticas_1000[\"cantidad_depositos_fallidos\"]))\n",
    "print (\"% fallidos: \" + str((estadisticas_1000[\"cantidad_depositos_fallidos\"] / estadisticas_1000[\"cantidad_depositos\"])*100))"
   ]
  },
  {
   "cell_type": "markdown",
   "id": "e9f677c4",
   "metadata": {},
   "source": [
    "##### Extracciones"
   ]
  },
  {
   "cell_type": "code",
   "execution_count": 353,
   "id": "ee6cc487",
   "metadata": {},
   "outputs": [
    {
     "name": "stdout",
     "output_type": "stream",
     "text": [
      "cantidad de extracciones: 107414\n",
      "exitosas: 107371\n",
      "fallidas: 43\n",
      "% fallidas: 0.040032025620496396\n"
     ]
    }
   ],
   "source": [
    "print (\"cantidad de extracciones: \" + str(estadisticas_1000[\"cantidad_extracciones\"]))\n",
    "print (\"exitosas: \" + str(estadisticas_1000[\"cantidad_extracciones_exitosas\"]))\n",
    "print (\"fallidas: \" + str(estadisticas_1000[\"cantidad_extracciones_fallidas\"]))\n",
    "print (\"% fallidas: \" + str((estadisticas_1000[\"cantidad_extracciones_fallidas\"] / estadisticas_1000[\"cantidad_extracciones\"])*100))"
   ]
  },
  {
   "cell_type": "markdown",
   "id": "dfff2987",
   "metadata": {},
   "source": [
    "#### b) Para un día en particular graficar la cantidad de billetes en el cajero luego de cada transacción."
   ]
  },
  {
   "cell_type": "code",
   "execution_count": 354,
   "id": "849b5f1c",
   "metadata": {},
   "outputs": [
    {
     "data": {
      "text/plain": [
       "[<matplotlib.lines.Line2D at 0x22170a66680>]"
      ]
     },
     "execution_count": 354,
     "metadata": {},
     "output_type": "execute_result"
    },
    {
     "data": {
      "image/png": "[encoded data removed]",
      "text/plain": [
       "<Figure size 432x288 with 1 Axes>"
      ]
     },
     "metadata": {
      "needs_background": "light"
     },
     "output_type": "display_data"
    }
   ],
   "source": [
    "cajero_reciclador_1 = CajeroReciclador(CAPACIDAD,CANTIDAD_BILLETES_INCIAL)\n",
    "estadisticas_1 = realizar_simulacion(cajero_reciclador_1, TIEMPO_MEDIO_ARRIBOS, 1)\n",
    "\n",
    "plt.plot(estadisticas_1[\"billetes_tras_transaccion\"])"
   ]
  },
  {
   "cell_type": "markdown",
   "id": "57c4f379",
   "metadata": {},
   "source": [
    "#### c) Calcular el tiempo medio que los clientes demoraron en el sistema (espera + utilización del cajero)"
   ]
  },
  {
   "cell_type": "code",
   "execution_count": 355,
   "id": "ee74ac8b",
   "metadata": {},
   "outputs": [
    {
     "name": "stdout",
     "output_type": "stream",
     "text": [
      "Tiempo medio demoras en los 1000 dias: 0.05647679664553072\n",
      "Tiempo medio demoras en 1 dias: 0.05998286385883611\n"
     ]
    }
   ],
   "source": [
    "print(\"Tiempo medio demoras en los 1000 dias: \" + str(estadisticas_1000[\"tiempo_medio_demoras\"]))\n",
    "print(\"Tiempo medio demoras en 1 dias: \" + str(estadisticas_1[\"tiempo_medio_demoras\"]))"
   ]
  },
  {
   "cell_type": "markdown",
   "id": "e377d1f0",
   "metadata": {},
   "source": [
    "#### d) ¿Recomienda a la entidad que implemente el cambio de cajero?"
   ]
  },
  {
   "cell_type": "markdown",
   "id": "5fda47c9",
   "metadata": {},
   "source": [
    "La entidad conoce que con el cajero actual el 20% de los clientes se retiraba sin poder extraer dinero, y sólo\n",
    "acepta cambiarlo si este porcentaje disminuye."
   ]
  },
  {
   "cell_type": "code",
   "execution_count": 356,
   "id": "4ba9050c",
   "metadata": {},
   "outputs": [
    {
     "name": "stdout",
     "output_type": "stream",
     "text": [
      "% extracciones fallidas: 0.040032025620496396\n"
     ]
    }
   ],
   "source": [
    "# En la simulacion de 1000 dias vimos que \n",
    "print (\"% extracciones fallidas: \" + str((estadisticas_1000[\"cantidad_extracciones_fallidas\"] / estadisticas_1000[\"cantidad_extracciones\"]) *100))"
   ]
  },
  {
   "cell_type": "code",
   "execution_count": 357,
   "id": "5518a0a5",
   "metadata": {},
   "outputs": [
    {
     "name": "stdout",
     "output_type": "stream",
     "text": [
      "% extracciones fallidas: 0.0\n"
     ]
    }
   ],
   "source": [
    "# En la simulacion de 1 dia vimos que \n",
    "print (\"% extracciones fallidas: \" + str((estadisticas_1[\"cantidad_extracciones_fallidas\"] / estadisticas_1[\"cantidad_extracciones\"]) *100))"
   ]
  },
  {
   "cell_type": "markdown",
   "id": "bc8cf313",
   "metadata": {},
   "source": [
    "Respuesta: Si, se recomienda el cambio de cajero"
   ]
  },
  {
   "cell_type": "markdown",
   "id": "29aed1fc",
   "metadata": {},
   "source": [
    "### ¿ Qué pasa con el cajero estandar?"
   ]
  },
  {
   "cell_type": "markdown",
   "id": "361585bf",
   "metadata": {},
   "source": [
    "### Si miro 1 solo dia "
   ]
  },
  {
   "cell_type": "code",
   "execution_count": 358,
   "id": "3991b6a5",
   "metadata": {},
   "outputs": [],
   "source": [
    "cajero_estandar_1 = CajeroEstandar(CAPACIDAD_BILLETES_DEPOSITOS, CAPACIDAD_BILLETES_EXTRACCIONES)\n",
    "estadisticas_estandar_1 = realizar_simulacion(cajero_estandar_1, TIEMPO_MEDIO_ARRIBOS, 1)"
   ]
  },
  {
   "cell_type": "markdown",
   "id": "ad98bbc4",
   "metadata": {},
   "source": [
    "##### Despositos"
   ]
  },
  {
   "cell_type": "code",
   "execution_count": 359,
   "id": "329332c8",
   "metadata": {},
   "outputs": [
    {
     "name": "stdout",
     "output_type": "stream",
     "text": [
      "Cantidad de depositos: 40\n",
      "exitosos: 31\n",
      "fallidos: 9\n",
      "% fallidos: 22.5\n"
     ]
    }
   ],
   "source": [
    "print (\"Cantidad de depositos: \" + str(estadisticas_estandar_1[\"cantidad_depositos\"]))\n",
    "print (\"exitosos: \" + str(estadisticas_estandar_1[\"cantidad_depositos_exitosos\"]))\n",
    "print (\"fallidos: \" + str(estadisticas_estandar_1[\"cantidad_depositos_fallidos\"]))\n",
    "print (\"% fallidos: \" + str((estadisticas_estandar_1[\"cantidad_depositos_fallidos\"] / estadisticas_estandar_1[\"cantidad_depositos\"])*100))"
   ]
  },
  {
   "cell_type": "markdown",
   "id": "87ab3352",
   "metadata": {},
   "source": [
    "##### Extracciones"
   ]
  },
  {
   "cell_type": "code",
   "execution_count": 360,
   "id": "46fe455e",
   "metadata": {},
   "outputs": [
    {
     "name": "stdout",
     "output_type": "stream",
     "text": [
      "cantidad de extracciones: 106\n",
      "exitosas: 80\n",
      "fallidas: 26\n",
      "% fallidas: 24.528301886792452\n"
     ]
    }
   ],
   "source": [
    "print (\"cantidad de extracciones: \" + str(estadisticas_estandar_1[\"cantidad_extracciones\"]))\n",
    "print (\"exitosas: \" + str(estadisticas_estandar_1[\"cantidad_extracciones_exitosas\"]))\n",
    "print (\"fallidas: \" + str(estadisticas_estandar_1[\"cantidad_extracciones_fallidas\"]))\n",
    "print (\"% fallidas: \" + str((estadisticas_estandar_1[\"cantidad_extracciones_fallidas\"] / estadisticas_estandar_1[\"cantidad_extracciones\"])*100))"
   ]
  },
  {
   "cell_type": "code",
   "execution_count": 361,
   "id": "80c8f685",
   "metadata": {},
   "outputs": [
    {
     "data": {
      "text/plain": [
       "[<matplotlib.lines.Line2D at 0x22170ad9300>]"
      ]
     },
     "execution_count": 361,
     "metadata": {},
     "output_type": "execute_result"
    },
    {
     "data": {
      "image/png": "[encoded data removed]",
      "text/plain": [
       "<Figure size 432x288 with 1 Axes>"
      ]
     },
     "metadata": {
      "needs_background": "light"
     },
     "output_type": "display_data"
    }
   ],
   "source": [
    "plt.plot(estadisticas_estandar[\"billetes_tras_transaccion\"])"
   ]
  },
  {
   "cell_type": "markdown",
   "id": "e7565704",
   "metadata": {},
   "source": [
    "### Si miro 1000 dias "
   ]
  },
  {
   "cell_type": "code",
   "execution_count": 362,
   "id": "c55da2a9",
   "metadata": {},
   "outputs": [],
   "source": [
    "cajero_estandar_1000 = CajeroEstandar(CAPACIDAD_BILLETES_DEPOSITOS, CAPACIDAD_BILLETES_EXTRACCIONES)\n",
    "estadisticas_estandar_1000 = realizar_simulacion(cajero_estandar_1000, TIEMPO_MEDIO_ARRIBOS, 1)"
   ]
  },
  {
   "cell_type": "markdown",
   "id": "5490f833",
   "metadata": {},
   "source": [
    "##### Despositos"
   ]
  },
  {
   "cell_type": "code",
   "execution_count": 363,
   "id": "82d7b773",
   "metadata": {},
   "outputs": [
    {
     "name": "stdout",
     "output_type": "stream",
     "text": [
      "exitosos: 34\n",
      "fallidos: 1\n",
      "% fallidos: 2.857142857142857\n"
     ]
    }
   ],
   "source": [
    "(\"Cantidad de depositos: \" + str(estadisticas_estandar_1000[\"cantidad_depositos\"]))\n",
    "print (\"exitosos: \" + str(estadisticas_estandar_1000[\"cantidad_depositos_exitosos\"]))\n",
    "print (\"fallidos: \" + str(estadisticas_estandar_1000[\"cantidad_depositos_fallidos\"]))\n",
    "print (\"% fallidos: \" + str((estadisticas_estandar_1000[\"cantidad_depositos_fallidos\"] / estadisticas_estandar_1000[\"cantidad_depositos\"])*100))"
   ]
  },
  {
   "cell_type": "markdown",
   "id": "ec204b9f",
   "metadata": {},
   "source": [
    "##### Extracciones"
   ]
  },
  {
   "cell_type": "code",
   "execution_count": 364,
   "id": "b6230e49",
   "metadata": {},
   "outputs": [
    {
     "name": "stdout",
     "output_type": "stream",
     "text": [
      "cantidad de extracciones: 115\n",
      "exitosas: 80\n",
      "fallidas: 28\n",
      "% fallidas: 25.925925925925924\n"
     ]
    }
   ],
   "source": [
    "print (\"cantidad de extracciones: \" + str(estadisticas_estanda_1000[\"cantidad_extracciones\"]))\n",
    "print (\"exitosas: \" + str(estadisticas_estandar_1000[\"cantidad_extracciones_exitosas\"]))\n",
    "print (\"fallidas: \" + str(estadisticas_estandar_1000[\"cantidad_extracciones_fallidas\"]))\n",
    "print (\"% fallidas: \" + str((estadisticas_estandar_1000[\"cantidad_extracciones_fallidas\"] /estadisticas_estandar_1000[\"cantidad_extracciones\"])*100))"
   ]
  }
 ],
 "metadata": {
  "kernelspec": {
   "display_name": "Python 3 (ipykernel)",
   "language": "python",
   "name": "python3"
  },
  "language_info": {
   "codemirror_mode": {
    "name": "ipython",
    "version": 3
   },
   "file_extension": ".py",
   "mimetype": "text/x-python",
   "name": "python",
   "nbconvert_exporter": "python",
   "pygments_lexer": "ipython3",
   "version": "3.10.0"
  }
 },
 "nbformat": 4,
 "nbformat_minor": 5
}
