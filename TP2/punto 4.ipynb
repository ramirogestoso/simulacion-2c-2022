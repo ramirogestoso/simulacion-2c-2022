{
 "cells": [
  {
   "cell_type": "code",
   "execution_count": 34,
   "id": "e02d0a7c",
   "metadata": {},
   "outputs": [],
   "source": [
    "import numpy as np"
   ]
  },
  {
   "cell_type": "code",
   "execution_count": 46,
   "id": "ee774bbb",
   "metadata": {},
   "outputs": [],
   "source": [
    "# Personas\n",
    "LIMITE_INFERIOR_DEPOSITOS = 10\n",
    "LIMITE_SUPERIOR_DEPOSITOS = 110\n",
    "LIMITE_INFERIOR_EXTRACCIONES = 3\n",
    "LIMITE_SUPERIOR_EXTRACCIONES = 50\n",
    "MEDIA_TIEMPO_DEPOSITOS = 5 # 5 minutos\n",
    "MEDIA_TIEMPO_EXTRACCIONES = 1.5 # 90 segundos = 1.5 ,minutos"
   ]
  },
  {
   "cell_type": "code",
   "execution_count": 47,
   "id": "1ed40efd",
   "metadata": {},
   "outputs": [],
   "source": [
    "# Cajero Estandar\n",
    "CAPACIDAD_BILLETES_DEPOSITOS= 2000\n",
    "CAPACIDAD_BILLETES_EXTRACCIONES = 2000\n",
    "VALOR_BILLETES = 100"
   ]
  },
  {
   "cell_type": "code",
   "execution_count": 48,
   "id": "347c037a",
   "metadata": {},
   "outputs": [],
   "source": [
    "# Cajero Reciclador\n",
    "CAPACIDAD = 2000\n",
    "CANTIDAD_BILLETES_INCIAL = 1000"
   ]
  },
  {
   "cell_type": "code",
   "execution_count": 49,
   "id": "86c30ba9",
   "metadata": {},
   "outputs": [],
   "source": [
    "class CajeroEstandar:\n",
    "    def __init__(self, capacidad_billetes_depositos, capacidad_billetes_extracciones):\n",
    "        # Comienza el día con la carga completa para extracciones\n",
    "        self.billetes_extracciones = capacidad_billetes_extracciones\n",
    "        \n",
    "        # Comienza el día sin ningún depósito\n",
    "        self.capacidad_billetes_depositos = capacidad_billetes_depositos\n",
    "        self.billetes_depositados = 0\n",
    "    \n",
    "    def depositar(billetes):    \n",
    "        futuros_billetes_depositados  = self.billetes_depositados + billetes\n",
    "        if futuros_billetes_depositados > self.capacidad_billetes_depositos:\n",
    "            return False          \n",
    "        self.billetes_depositados = futuros_billetes_depositados\n",
    "        return True\n",
    "    \n",
    "    def extraer(billetes):\n",
    "        futuros_billetes_extracciones = self.billetes_extracciones - billetes\n",
    "        if futuros_billetes_extracciones < 0:\n",
    "            return False\n",
    "        self.billetes_extracciones = futuros_billetes_extracciones\n",
    "        return True"
   ]
  },
  {
   "cell_type": "code",
   "execution_count": 50,
   "id": "75617582",
   "metadata": {},
   "outputs": [],
   "source": [
    "class cajeroReciclador:\n",
    "    def __init__(self, capacidad, cantidad_billetes_inicial):\n",
    "        self.capacidad = capacidad\n",
    "        self.billetes = cantidad_billetes_inicial\n",
    "        \n",
    "    def depositar(billets):\n",
    "        futuros_billetes  = self.billetes + billetes\n",
    "        if futuros_billetes > self.capacidad:\n",
    "            return False\n",
    "        self.billetes = futuros_billetes\n",
    "        return True\n",
    "    \n",
    "    def extraer (billetes):\n",
    "        futuros_billetes = self.billetes - billetes\n",
    "        if futuros_billetes < 0:\n",
    "            return False\n",
    "        self.billetes = futuros_billetes\n",
    "        return True"
   ]
  },
  {
   "cell_type": "code",
   "execution_count": 51,
   "id": "4fdd42bb",
   "metadata": {},
   "outputs": [],
   "source": [
    "class Operacion:\n",
    "    def __init__(tiempo, resultado):\n",
    "        self.tiempo = tiempo\n",
    "        self.resultado = resultado"
   ]
  },
  {
   "cell_type": "code",
   "execution_count": 52,
   "id": "6e08e9e9",
   "metadata": {},
   "outputs": [],
   "source": [
    "class Persona():\n",
    "    def __init__(limite_inferior_depositos, \n",
    "                 limite_superior_depositos, \n",
    "                 limite_inferior_extracciones,\n",
    "                 limite_superior_extracciones,\n",
    "                 media_tiempo_depositos,\n",
    "                 media_tiempo_extracciones):\n",
    "    \n",
    "        self.limite_inferior_depositos = limite_inferior_depositos \n",
    "        self.limite_superior_depositos = limite_superior_depositos \n",
    "        self.limite_inferior_extracciones = limite_inferior_extracciones,\n",
    "        self.limite_superior_extracciones = limite_superior_extracciones ,\n",
    "        self.media_tiempo_depositos = media_tiempo_depositos,\n",
    "        self.media_tiempo_extracciones = media_tiempo_extracciones\n",
    "        \n",
    "        \n",
    "    def realizar_transaccion(cajero):\n",
    "        random = np.random.uniform(0, 1, 1)[0]\n",
    "        if random < 0.75:\n",
    "            return self.realizar_deposito(cajero)\n",
    "        return self.realizar_extraccion (cajero)\n",
    "    \n",
    "    def realizar_deposito (cajero):\n",
    "        billetes = np.random.uniform(self.limite_inferior_depositos, self.limite_superior_depositos, 1)[0]\n",
    "        tiempo = np.random.exponential(self.media_tiempo_depositos)\n",
    "        resultado = cajero.depositar(billetes)\n",
    "        return Operacion(tiempo, resultado)\n",
    "        \n",
    "    def realizar_extraccion (cajero):\n",
    "        billetes = np.random.uniform(limite_inferior_extracciones, limite_superior_extracciones, 1)[0]\n",
    "        tiempo = np.random.exponential(self.media_tiempo_extracciones)\n",
    "        resultado =  cajero.extraer(billetes)\n",
    "        return Operacion(tiempo, resultado)"
   ]
  },
  {
   "cell_type": "code",
   "execution_count": null,
   "id": "7f67c488",
   "metadata": {},
   "outputs": [],
   "source": []
  }
 ],
 "metadata": {
  "kernelspec": {
   "display_name": "Python 3 (ipykernel)",
   "language": "python",
   "name": "python3"
  },
  "language_info": {
   "codemirror_mode": {
    "name": "ipython",
    "version": 3
   },
   "file_extension": ".py",
   "mimetype": "text/x-python",
   "name": "python",
   "nbconvert_exporter": "python",
   "pygments_lexer": "ipython3",
   "version": "3.10.0"
  }
 },
 "nbformat": 4,
 "nbformat_minor": 5
}
