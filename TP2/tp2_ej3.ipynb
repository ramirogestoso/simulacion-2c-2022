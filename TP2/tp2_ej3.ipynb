{
 "cells": [
  {
   "cell_type": "code",
   "execution_count": 7,
   "id": "637b8f38",
   "metadata": {},
   "outputs": [],
   "source": [
    "import simpy\n",
    "import numpy as np"
   ]
  },
  {
   "cell_type": "code",
   "execution_count": 41,
   "id": "45ac3ab0",
   "metadata": {},
   "outputs": [],
   "source": [
    "class simulador_servidores:\n",
    "    mu_llamadas = 0\n",
    "    mu_db = 0\n",
    "    mu_db1 = 0\n",
    "    mu_db2 = 0\n",
    "    p = 0\n",
    "    t_esperas = []\n",
    "    \n",
    "    def __init__(self, mu_llamadas = 4, mu_db = 0.8, mu_db1 = 0.7, mu_db2 = 1, p = 0.7):\n",
    "        self.mu_llamadas = mu_llamadas\n",
    "        self.mu_db = mu_db\n",
    "        self.p = p\n",
    "        self.mu_db1 = mu_db1\n",
    "        self.mu_db2 = mu_db2\n",
    "        \n",
    "    def run_alternativa1(self, n, verbose = False):\n",
    "        self.t_esperas = [[],[]]\n",
    "        env = simpy.Environment()\n",
    "        env.process(self._proceso1(env, n, verbose))\n",
    "        env.run()\n",
    "        print('Simulación terminada')\n",
    "        return self.t_esperas\n",
    "    \n",
    "    def run_alternativa2(self, n, verbose = False):\n",
    "        self.t_esperas = []\n",
    "        env = simpy.Environment()\n",
    "        env.process(self._proceso2(env, n, verbose))\n",
    "        env.run()\n",
    "        print('Simulación terminada')\n",
    "        return self.t_esperas\n",
    "    \n",
    "    def _proceso1(self, env, n, verbose = False):\n",
    "        i = 0\n",
    "        while i <= n:\n",
    "        \n",
    "            yield env.timeout(np.random.exponential(self.mu_llamadas))\n",
    "            if verbose:\n",
    "                print(f'\\nLlamada {i} al servicio en el segundo: {env.now}')\n",
    "\n",
    "            u = np.random.random()\n",
    "            if u < self.p:\n",
    "                t_espera = np.random.exponential(self.mu_db1)\n",
    "                self.t_esperas[0].append(t_espera)\n",
    "                yield env.timeout(t_espera)\n",
    "                if verbose:\n",
    "                    print(f'Atencion por db1 despues de: {t_espera} segundos')\n",
    "\n",
    "            else:\n",
    "                t_espera = np.random.exponential(self.mu_db2)\n",
    "                self.t_esperas[1].append(t_espera)\n",
    "                yield env.timeout(t_espera)\n",
    "                if verbose:\n",
    "                    print(f'Atencion por db2 despues de: {t_espera} segundos')\n",
    "            i += 1\n",
    "        \n",
    "    def _proceso2(self, env, n, verbose = False):\n",
    "        i = 0\n",
    "        while i <= n:\n",
    "\n",
    "            yield env.timeout(np.random.exponential(self.mu_llamadas))\n",
    "            if verbose:\n",
    "                print(f'\\nLlamada {i} al servicio en el segundo: {env.now}')\n",
    "\n",
    "            t_espera = np.random.exponential(self.mu_db)\n",
    "            self.t_esperas.append(t_espera)\n",
    "            yield env.timeout(t_espera)\n",
    "\n",
    "            if verbose:\n",
    "                print(f'Atencion despues de: {t_espera} segundos')\n",
    "\n",
    "            i += 1"
   ]
  },
  {
   "cell_type": "code",
   "execution_count": 42,
   "id": "e462201a",
   "metadata": {},
   "outputs": [
    {
     "name": "stdout",
     "output_type": "stream",
     "text": [
      "Simulación terminada\n"
     ]
    },
    {
     "data": {
      "text/plain": [
       "55.904977529001656"
      ]
     },
     "execution_count": 42,
     "metadata": {},
     "output_type": "execute_result"
    }
   ],
   "source": [
    "sim = simulador_servidores()\n",
    "np.array(sim.run_alternativa2(100_000)).sum() / 60 / 24"
   ]
  }
 ],
 "metadata": {
  "kernelspec": {
   "display_name": "Python 3 (ipykernel)",
   "language": "python",
   "name": "python3"
  },
  "language_info": {
   "codemirror_mode": {
    "name": "ipython",
    "version": 3
   },
   "file_extension": ".py",
   "mimetype": "text/x-python",
   "name": "python",
   "nbconvert_exporter": "python",
   "pygments_lexer": "ipython3",
   "version": "3.10.7"
  }
 },
 "nbformat": 4,
 "nbformat_minor": 5
}
