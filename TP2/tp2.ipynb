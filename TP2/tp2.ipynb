{
 "cells": [
  {
   "cell_type": "markdown",
   "metadata": {},
   "source": [
    "---\n",
    "\n",
    "\n",
    "<p align=\"center\">\n",
    "   <!---<img src=\"https://www.estudiaradistancia.com.ar/logos/original/logo-universidad-de-buenos-aires.webp\" height=80 />--->\n",
    "   <img src=\"https://confedi.org.ar/wp-content/uploads/2020/09/fiuba_logo.jpg\" height=\"180\"/>\n",
    "</p>\n",
    "\n",
    "---\n",
    "\n",
    "<center><font size=\"+2\">\n",
    "  <h1> 75.26 / 95.19 Simulación </h1>\n",
    "\n",
    "  <h2> Trabajo Práctico II </h2>\n",
    "\n",
    "  <h3> Segundo Cuatrimestre - 2022 </h3>\n",
    "\n",
    "</font></center>\n",
    "\n",
    "---\n",
    "\n",
    "<center><font size=\"+1\">\n",
    "\n",
    "  <h2>GRUPO 4</h2>\n",
    "\n",
    "  <h2>INTEGRANTES</h2>\n",
    "\n",
    "  <h4>Gestoso, Ramiro</h4>\n",
    "  <h4>Brizuela Lopez, Mariano</h4>\n",
    "  <h4>Markarian, Darío Hernan</h4>\n",
    "  <h4>Ripetour, Diego</h4>\n",
    "\n",
    "</font></center>\n",
    "\n",
    "\n",
    "---"
   ]
  }
 ],
 "metadata": {
  "kernelspec": {
   "display_name": "Python 3 (ipykernel)",
   "language": "python",
   "name": "python3"
  },
  "language_info": {
   "codemirror_mode": {
    "name": "ipython",
    "version": 3
   },
   "file_extension": ".py",
   "mimetype": "text/x-python",
   "name": "python",
   "nbconvert_exporter": "python",
   "pygments_lexer": "ipython3",
   "version": "3.10.7"
  }
 },
 "nbformat": 4,
 "nbformat_minor": 2
}
