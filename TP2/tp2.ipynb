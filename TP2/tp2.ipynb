{
 "cells": [
  {
   "cell_type": "markdown",
   "metadata": {},
   "source": [
    "---\n",
    "\n",
    "\n",
    "<p align=\"center\">\n",
    "   <!---<img src=\"https://www.estudiaradistancia.com.ar/logos/original/logo-universidad-de-buenos-aires.webp\" height=80 />--->\n",
    "   <img src=\"https://confedi.org.ar/wp-content/uploads/2020/09/fiuba_logo.jpg\" height=\"180\"/>\n",
    "</p>\n",
    "\n",
    "---\n",
    "\n",
    "<center><font size=\"+2\">\n",
    "  <h1> 75.26 / 95.19 Simulación </h1>\n",
    "\n",
    "  <h2> Trabajo Práctico II </h2>\n",
    "\n",
    "  <h3> Segundo Cuatrimestre - 2022 </h3>\n",
    "\n",
    "</font></center>\n",
    "\n",
    "---\n",
    "\n",
    "<center><font size=\"+1\">\n",
    "\n",
    "  <h2>GRUPO 4</h2>\n",
    "\n",
    "  <h2>INTEGRANTES</h2>\n",
    "\n",
    "  <h4>Gestoso, Ramiro</h4>\n",
    "  <h4>Brizuela Lopez, Mariano</h4>\n",
    "  <h4>Markarian, Darío Hernan</h4>\n",
    "  <h4>Ripetour, Diego</h4>\n",
    "\n",
    "</font></center>\n",
    "\n",
    "\n",
    "---"
   ]
  },
  {
   "cell_type": "code",
   "execution_count": 1,
   "metadata": {},
   "outputs": [],
   "source": [
    "import random"
   ]
  },
  {
   "cell_type": "code",
   "execution_count": 59,
   "metadata": {},
   "outputs": [],
   "source": [
    "def simular_markov(matriz_estados, cantSimulaciones):\n",
    "    estados_recorridos = []\n",
    "    # elijo uno random de los n para iniciar\n",
    "    v = random.randint(0, len(matriz_estados)-1)\n",
    "    \n",
    "    # obtenemos el array de probabilidades del nodo v\n",
    "    prob_estados = matriz_estados[v]\n",
    "    \n",
    "    for i in range(cantSimulaciones):\n",
    "        estados_recorridos.append(v)\n",
    "        print(f\"Estado actual {v}\")\n",
    "        # simulamos una probabilidad que nos ayudará a elegir el próximo estado\n",
    "        u = random.random()\n",
    "        print(f\"Probabilidad simulada {round(u,4)}\\n\")\n",
    "        \n",
    "        prob_acum = 0\n",
    "        for j in range(len(matriz_estados)):\n",
    "            prob_acum += prob_estados[j]\n",
    "            if u <= prob_acum:\n",
    "                # actualizamos el nodo y el array de probabilidades\n",
    "                v = j\n",
    "                prob_estados = matriz_estados[v]\n",
    "                break\n",
    "    return estados_recorridos"
   ]
  },
  {
   "cell_type": "code",
   "execution_count": 63,
   "metadata": {},
   "outputs": [
    {
     "name": "stdout",
     "output_type": "stream",
     "text": [
      "Estado actual 0\n",
      "Probabilidad simulada 0.1725\n",
      "\n",
      "Estado actual 0\n",
      "Probabilidad simulada 0.3621\n",
      "\n",
      "Estado actual 0\n",
      "Probabilidad simulada 0.6661\n",
      "\n",
      "Estado actual 1\n",
      "Probabilidad simulada 0.198\n",
      "\n",
      "Estado actual 0\n",
      "Probabilidad simulada 0.9266\n",
      "\n",
      "Estado actual 1\n",
      "Probabilidad simulada 0.7784\n",
      "\n",
      "Estado actual 1\n",
      "Probabilidad simulada 0.1287\n",
      "\n",
      "Estado actual 0\n",
      "Probabilidad simulada 0.104\n",
      "\n",
      "Estado actual 0\n",
      "Probabilidad simulada 0.7663\n",
      "\n",
      "Estado actual 1\n",
      "Probabilidad simulada 0.9747\n",
      "\n"
     ]
    }
   ],
   "source": [
    "m = [\n",
    "    [0.5,0.5],\n",
    "    [0.4,0.6]\n",
    "]\n",
    "e = simular_markov(m, 10)"
   ]
  }
 ],
 "metadata": {
  "kernelspec": {
   "display_name": "Python 3 (ipykernel)",
   "language": "python",
   "name": "python3"
  },
  "language_info": {
   "codemirror_mode": {
    "name": "ipython",
    "version": 3
   },
   "file_extension": ".py",
   "mimetype": "text/x-python",
   "name": "python",
   "nbconvert_exporter": "python",
   "pygments_lexer": "ipython3",
   "version": "3.10.7"
  }
 },
 "nbformat": 4,
 "nbformat_minor": 2
}
