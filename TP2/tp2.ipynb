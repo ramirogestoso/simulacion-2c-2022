{
 "cells": [
  {
   "cell_type": "markdown",
   "metadata": {},
   "source": [
    "---\n",
    "\n",
    "\n",
    "<p align=\"center\">\n",
    "   <!---<img src=\"https://www.estudiaradistancia.com.ar/logos/original/logo-universidad-de-buenos-aires.webp\" height=80 />--->\n",
    "   <img src=\"https://confedi.org.ar/wp-content/uploads/2020/09/fiuba_logo.jpg\" height=\"180\"/>\n",
    "</p>\n",
    "\n",
    "---\n",
    "\n",
    "<center><font size=\"+2\">\n",
    "  <h1> 75.26 / 95.19 Simulación </h1>\n",
    "\n",
    "  <h2> Trabajo Práctico II </h2>\n",
    "\n",
    "  <h3> Segundo Cuatrimestre - 2022 </h3>\n",
    "\n",
    "</font></center>\n",
    "\n",
    "---\n",
    "\n",
    "<center><font size=\"+1\">\n",
    "\n",
    "  <h2>GRUPO 4</h2>\n",
    "\n",
    "  <h2>INTEGRANTES</h2>\n",
    "\n",
    "  <h4>Gestoso, Ramiro</h4>\n",
    "  <h4>Brizuela Lopez, Mariano</h4>\n",
    "  <h4>Markarian, Darío Hernan</h4>\n",
    "  <h4>Ripetour, Diego</h4>\n",
    "\n",
    "</font></center>\n",
    "\n",
    "\n",
    "---"
   ]
  },
  {
   "cell_type": "code",
   "execution_count": 1,
   "metadata": {},
   "outputs": [],
   "source": [
    "import random"
   ]
  },
  {
   "cell_type": "code",
   "execution_count": 54,
   "metadata": {},
   "outputs": [],
   "source": [
    "def simular_markov(matriz_estados, cantSimulaciones):\n",
    "    # elijo uno random de los n para iniciar\n",
    "    v = random.randint(0, len(matriz_estados)-1)\n",
    "    \n",
    "    # obtenemos el array de probabilidades del nodo v\n",
    "    prob_estados = matriz_estados[v]\n",
    "    \n",
    "    for i in range(cantSimulaciones):\n",
    "        print(f\"Estado actual {v}\")\n",
    "        # simulamos una probabilidad que nos ayudará a elegir el próximo estado\n",
    "        u = random.random()\n",
    "        print(f\"Probabilidad simulada {round(u,4)}\\n\")\n",
    "        \n",
    "        prob_acum = 0\n",
    "        for j in range(len(matriz_estados)):\n",
    "            prob_acum += prob_estados[j]\n",
    "            if u <= prob_acum:\n",
    "                # actualizamos el nodo y el array de probabilidades\n",
    "                v = j\n",
    "                prob_estados = matriz_estados[v]\n",
    "                break"
   ]
  },
  {
   "cell_type": "code",
   "execution_count": null,
   "metadata": {},
   "outputs": [],
   "source": []
  }
 ],
 "metadata": {
  "kernelspec": {
   "display_name": "Python 3 (ipykernel)",
   "language": "python",
   "name": "python3"
  },
  "language_info": {
   "codemirror_mode": {
    "name": "ipython",
    "version": 3
   },
   "file_extension": ".py",
   "mimetype": "text/x-python",
   "name": "python",
   "nbconvert_exporter": "python",
   "pygments_lexer": "ipython3",
   "version": "3.10.7"
  }
 },
 "nbformat": 4,
 "nbformat_minor": 2
}
